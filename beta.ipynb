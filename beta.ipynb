{
 "cells": [
  {
   "cell_type": "code",
   "execution_count": 6,
   "metadata": {},
   "outputs": [],
   "source": [
    "import retro"
   ]
  },
  {
   "cell_type": "code",
   "execution_count": 2,
   "metadata": {},
   "outputs": [
    {
     "name": "stdout",
     "output_type": "stream",
     "text": [
      "Importing StreetFighterIISpecialChampionEdition-Genesis\n",
      "Imported 1 games\n"
     ]
    }
   ],
   "source": [
    "!python -m retro.import ./custom_integrations"
   ]
  },
  {
   "cell_type": "code",
   "execution_count": null,
   "metadata": {},
   "outputs": [],
   "source": [
    "# Will try this for adding states\n",
    "# https://github.com/openai/retro/issues/33#issuecomment-387205034"
   ]
  },
  {
   "cell_type": "code",
   "execution_count": 12,
   "metadata": {},
   "outputs": [],
   "source": [
    "env=retro.make(game='StreetFighterIISpecialChampionEdition-Genesis',state='Champion.Level1.RyuVsGuile.state')"
   ]
  },
  {
   "cell_type": "code",
   "execution_count": 7,
   "metadata": {},
   "outputs": [],
   "source": [
    "env.close()"
   ]
  },
  {
   "cell_type": "code",
   "execution_count": 9,
   "metadata": {},
   "outputs": [
    {
     "data": {
      "text/plain": [
       "array([[[249, 128, 148],\n",
       "        [164,  79,  18],\n",
       "        [  7,  83,  30],\n",
       "        ...,\n",
       "        [ 39, 144,  95],\n",
       "        [ 75, 189,  14],\n",
       "        [146,  28, 194]],\n",
       "\n",
       "       [[253,  13, 228],\n",
       "        [  0,  77, 179],\n",
       "        [171, 235, 152],\n",
       "        ...,\n",
       "        [150,  90,  67],\n",
       "        [134,   8,  86],\n",
       "        [164,  17, 225]],\n",
       "\n",
       "       [[255, 132,  81],\n",
       "        [ 59, 119, 109],\n",
       "        [238, 137, 245],\n",
       "        ...,\n",
       "        [ 86, 181,  83],\n",
       "        [196, 207,  94],\n",
       "        [ 16, 231,   4]],\n",
       "\n",
       "       ...,\n",
       "\n",
       "       [[219,  47, 192],\n",
       "        [ 72,  37, 239],\n",
       "        [ 85, 124, 248],\n",
       "        ...,\n",
       "        [ 43,  86, 190],\n",
       "        [166, 106,  73],\n",
       "        [121,  20,  90]],\n",
       "\n",
       "       [[ 71, 118,  11],\n",
       "        [216,  65, 130],\n",
       "        [173, 191, 178],\n",
       "        ...,\n",
       "        [243, 144, 229],\n",
       "        [199,   4,  19],\n",
       "        [122,  73,  37]],\n",
       "\n",
       "       [[ 82,  31, 222],\n",
       "        [ 93, 182, 107],\n",
       "        [ 87,  52,  56],\n",
       "        ...,\n",
       "        [159, 162, 217],\n",
       "        [240, 101,   2],\n",
       "        [249, 141, 195]]], dtype=uint8)"
      ]
     },
     "execution_count": 9,
     "metadata": {},
     "output_type": "execute_result"
    }
   ],
   "source": [
    "env.observation_space.sample()"
   ]
  },
  {
   "cell_type": "code",
   "execution_count": 13,
   "metadata": {},
   "outputs": [],
   "source": [
    "obs = env.reset()\n",
    "action = env.action_space.sample()\n",
    "while True:\n",
    "    state, reward, done, info = env.step(action)\n",
    "    env.render()\n",
    "    if done:\n",
    "        break\n",
    "    action = env.action_space.sample()\n",
    "obs = env.reset()\n",
    "action = env.action_space.sample()\n",
    "while True:\n",
    "    state, reward, done, info = env.step(action)\n",
    "    env.render()\n",
    "    if done:\n",
    "        break\n",
    "    action = env.action_space.sample()\n",
    "env.close()"
   ]
  }
 ],
 "metadata": {
  "kernelspec": {
   "display_name": "mystreet",
   "language": "python",
   "name": "python3"
  },
  "language_info": {
   "codemirror_mode": {
    "name": "ipython",
    "version": 3
   },
   "file_extension": ".py",
   "mimetype": "text/x-python",
   "name": "python",
   "nbconvert_exporter": "python",
   "pygments_lexer": "ipython3",
   "version": "3.7.16"
  }
 },
 "nbformat": 4,
 "nbformat_minor": 4
}
