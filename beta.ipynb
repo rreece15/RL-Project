{
 "cells": [
  {
   "cell_type": "code",
   "execution_count": 47,
   "metadata": {},
   "outputs": [],
   "source": [
    "import retro\n",
    "import os"
   ]
  },
  {
   "cell_type": "code",
   "execution_count": 41,
   "metadata": {},
   "outputs": [
    {
     "name": "stdout",
     "output_type": "stream",
     "text": [
      "Importing StreetFighterIISpecialChampionEdition-Genesis\n",
      "Imported 1 games\n"
     ]
    }
   ],
   "source": [
    "!python -m retro.import ./rom/"
   ]
  },
  {
   "cell_type": "code",
   "execution_count": null,
   "metadata": {},
   "outputs": [],
   "source": [
    "# Will try this for adding states\n",
    "# https://github.com/openai/retro/issues/33#issuecomment-387205034"
   ]
  },
  {
   "cell_type": "code",
   "execution_count": 53,
   "metadata": {},
   "outputs": [
    {
     "name": "stdout",
     "output_type": "stream",
     "text": [
      "c:\\Users\\reece\\OneDrive\\Documents\\GitHub\\RL-Project\n"
     ]
    },
    {
     "ename": "FileNotFoundError",
     "evalue": "[WinError 3] The system cannot find the path specified: 'c:\\\\Users\\\\reece\\\\OneDrive\\\\Documents\\\\GitHub\\\\rom'",
     "output_type": "error",
     "traceback": [
      "\u001b[1;31m---------------------------------------------------------------------------\u001b[0m",
      "\u001b[1;31mFileNotFoundError\u001b[0m                         Traceback (most recent call last)",
      "\u001b[1;32m~\\AppData\\Local\\Temp\\ipykernel_38484\\278436188.py\u001b[0m in \u001b[0;36m<module>\u001b[1;34m\u001b[0m\n\u001b[0;32m      4\u001b[0m         \u001b[0mos\u001b[0m\u001b[1;33m.\u001b[0m\u001b[0mpath\u001b[0m\u001b[1;33m.\u001b[0m\u001b[0mjoin\u001b[0m\u001b[1;33m(\u001b[0m\u001b[0mSCRIPT_DIR\u001b[0m\u001b[1;33m,\u001b[0m \u001b[1;34m\"RL-Project/rom\"\u001b[0m\u001b[1;33m)\u001b[0m\u001b[1;33m\u001b[0m\u001b[1;33m\u001b[0m\u001b[0m\n\u001b[0;32m      5\u001b[0m )\n\u001b[1;32m----> 6\u001b[1;33m \u001b[0mprint\u001b[0m\u001b[1;33m(\u001b[0m\u001b[1;34m\"StreetFighter_custom\"\u001b[0m \u001b[1;32min\u001b[0m \u001b[0mretro\u001b[0m\u001b[1;33m.\u001b[0m\u001b[0mdata\u001b[0m\u001b[1;33m.\u001b[0m\u001b[0mlist_games\u001b[0m\u001b[1;33m(\u001b[0m\u001b[0minttype\u001b[0m\u001b[1;33m=\u001b[0m\u001b[0mretro\u001b[0m\u001b[1;33m.\u001b[0m\u001b[0mdata\u001b[0m\u001b[1;33m.\u001b[0m\u001b[0mIntegrations\u001b[0m\u001b[1;33m.\u001b[0m\u001b[0mALL\u001b[0m\u001b[1;33m)\u001b[0m\u001b[1;33m)\u001b[0m\u001b[1;33m\u001b[0m\u001b[1;33m\u001b[0m\u001b[0m\n\u001b[0m\u001b[0;32m      7\u001b[0m \u001b[0menv\u001b[0m \u001b[1;33m=\u001b[0m \u001b[0mretro\u001b[0m\u001b[1;33m.\u001b[0m\u001b[0mmake\u001b[0m\u001b[1;33m(\u001b[0m\u001b[1;34m\"StreetFighter_custom\"\u001b[0m\u001b[1;33m,\u001b[0m \u001b[0minttype\u001b[0m\u001b[1;33m=\u001b[0m\u001b[0mretro\u001b[0m\u001b[1;33m.\u001b[0m\u001b[0mdata\u001b[0m\u001b[1;33m.\u001b[0m\u001b[0mIntegrations\u001b[0m\u001b[1;33m.\u001b[0m\u001b[0mALL\u001b[0m\u001b[1;33m)\u001b[0m\u001b[1;33m\u001b[0m\u001b[1;33m\u001b[0m\u001b[0m\n\u001b[0;32m      8\u001b[0m \u001b[0mprint\u001b[0m\u001b[1;33m(\u001b[0m\u001b[0menv\u001b[0m\u001b[1;33m)\u001b[0m\u001b[1;33m\u001b[0m\u001b[1;33m\u001b[0m\u001b[0m\n",
      "\u001b[1;32mc:\\Users\\reece\\miniconda3\\envs\\streetfighter\\lib\\site-packages\\retro\\data\\__init__.py\u001b[0m in \u001b[0;36mlist_games\u001b[1;34m(inttype)\u001b[0m\n\u001b[0;32m    292\u001b[0m     \u001b[0mfiles\u001b[0m \u001b[1;33m=\u001b[0m \u001b[1;33m[\u001b[0m\u001b[1;33m]\u001b[0m\u001b[1;33m\u001b[0m\u001b[1;33m\u001b[0m\u001b[0m\n\u001b[0;32m    293\u001b[0m     \u001b[1;32mfor\u001b[0m \u001b[0mcurpath\u001b[0m \u001b[1;32min\u001b[0m \u001b[0minttype\u001b[0m\u001b[1;33m.\u001b[0m\u001b[0mpaths\u001b[0m\u001b[1;33m:\u001b[0m\u001b[1;33m\u001b[0m\u001b[1;33m\u001b[0m\u001b[0m\n\u001b[1;32m--> 294\u001b[1;33m         \u001b[0mfiles\u001b[0m\u001b[1;33m.\u001b[0m\u001b[0mextend\u001b[0m\u001b[1;33m(\u001b[0m\u001b[0mos\u001b[0m\u001b[1;33m.\u001b[0m\u001b[0mlistdir\u001b[0m\u001b[1;33m(\u001b[0m\u001b[0mos\u001b[0m\u001b[1;33m.\u001b[0m\u001b[0mpath\u001b[0m\u001b[1;33m.\u001b[0m\u001b[0mjoin\u001b[0m\u001b[1;33m(\u001b[0m\u001b[0mpath\u001b[0m\u001b[1;33m(\u001b[0m\u001b[1;33m)\u001b[0m\u001b[1;33m,\u001b[0m \u001b[0mcurpath\u001b[0m\u001b[1;33m)\u001b[0m\u001b[1;33m)\u001b[0m\u001b[1;33m)\u001b[0m\u001b[1;33m\u001b[0m\u001b[1;33m\u001b[0m\u001b[0m\n\u001b[0m\u001b[0;32m    295\u001b[0m     \u001b[0mpossible_games\u001b[0m \u001b[1;33m=\u001b[0m \u001b[1;33m[\u001b[0m\u001b[1;33m]\u001b[0m\u001b[1;33m\u001b[0m\u001b[1;33m\u001b[0m\u001b[0m\n\u001b[0;32m    296\u001b[0m     \u001b[1;32mfor\u001b[0m \u001b[0mfile\u001b[0m \u001b[1;32min\u001b[0m \u001b[0mfiles\u001b[0m\u001b[1;33m:\u001b[0m\u001b[1;33m\u001b[0m\u001b[1;33m\u001b[0m\u001b[0m\n",
      "\u001b[1;31mFileNotFoundError\u001b[0m: [WinError 3] The system cannot find the path specified: 'c:\\\\Users\\\\reece\\\\OneDrive\\\\Documents\\\\GitHub\\\\rom'"
     ]
    }
   ],
   "source": [
    "SCRIPT_DIR = os.path.dirname(os.path.abspath(\"RL-Project\"))\n",
    "print(SCRIPT_DIR)\n",
    "retro.data.Integrations.add_custom_path(\n",
    "        os.path.join(SCRIPT_DIR, \"RL-Project/rom\")\n",
    ")\n",
    "print(\"StreetFighter_custom\" in retro.data.list_games(inttype=retro.data.Integrations.ALL))\n",
    "env = retro.make(\"StreetFighter_custom\", inttype=retro.data.Integrations.ALL)\n",
    "print(env)"
   ]
  },
  {
   "cell_type": "code",
   "execution_count": 44,
   "metadata": {},
   "outputs": [],
   "source": [
    "env=retro.make(game='StreetFighterIISpecialChampionEdition-Genesis',state='Champion.Level1.RyuVsGuile.state')"
   ]
  },
  {
   "cell_type": "code",
   "execution_count": 46,
   "metadata": {},
   "outputs": [],
   "source": [
    "env.close()"
   ]
  },
  {
   "cell_type": "code",
   "execution_count": 4,
   "metadata": {},
   "outputs": [
    {
     "data": {
      "text/plain": [
       "array([[[ 54, 221,  66],\n",
       "        [ 21, 216,  38],\n",
       "        [ 69, 228, 161],\n",
       "        ...,\n",
       "        [158,  79,  98],\n",
       "        [  5,  30, 223],\n",
       "        [211, 218,  45]],\n",
       "\n",
       "       [[214,  56, 152],\n",
       "        [143, 217, 205],\n",
       "        [ 32,  61, 175],\n",
       "        ...,\n",
       "        [ 58,  66, 122],\n",
       "        [175, 215, 205],\n",
       "        [ 32, 215,  40]],\n",
       "\n",
       "       [[154,  48, 134],\n",
       "        [ 28, 102, 225],\n",
       "        [ 43, 157, 173],\n",
       "        ...,\n",
       "        [ 39, 224, 171],\n",
       "        [106, 221, 248],\n",
       "        [ 18, 137,  38]],\n",
       "\n",
       "       ...,\n",
       "\n",
       "       [[  7,  16, 253],\n",
       "        [ 66,  14, 195],\n",
       "        [ 85,   5, 234],\n",
       "        ...,\n",
       "        [121,  30,  33],\n",
       "        [211, 193, 186],\n",
       "        [ 73, 184, 250]],\n",
       "\n",
       "       [[ 82, 172,   8],\n",
       "        [226,  39, 179],\n",
       "        [ 68, 152, 170],\n",
       "        ...,\n",
       "        [201, 211,  13],\n",
       "        [ 65,  97,  23],\n",
       "        [ 90, 156,  15]],\n",
       "\n",
       "       [[ 59, 254,  13],\n",
       "        [172, 192, 160],\n",
       "        [146, 215,  30],\n",
       "        ...,\n",
       "        [  6, 108, 149],\n",
       "        [ 54, 187, 116],\n",
       "        [ 92, 249, 175]]], dtype=uint8)"
      ]
     },
     "execution_count": 4,
     "metadata": {},
     "output_type": "execute_result"
    }
   ],
   "source": [
    "env.observation_space.sample()"
   ]
  },
  {
   "cell_type": "code",
   "execution_count": 45,
   "metadata": {},
   "outputs": [],
   "source": [
    "obs = env.reset()\n",
    "action = env.action_space.sample()\n",
    "while True:\n",
    "    state, reward, done, info = env.step(action)\n",
    "    env.render()\n",
    "    if done:\n",
    "        break\n",
    "    action = env.action_space.sample()\n",
    "env.close()"
   ]
  }
 ],
 "metadata": {
  "kernelspec": {
   "display_name": "Python 3",
   "language": "python",
   "name": "python3"
  },
  "language_info": {
   "codemirror_mode": {
    "name": "ipython",
    "version": 3
   },
   "file_extension": ".py",
   "mimetype": "text/x-python",
   "name": "python",
   "nbconvert_exporter": "python",
   "pygments_lexer": "ipython3",
   "version": "3.7.12"
  }
 },
 "nbformat": 4,
 "nbformat_minor": 2
}
