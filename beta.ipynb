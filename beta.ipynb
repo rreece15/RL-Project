{
 "cells": [
  {
   "cell_type": "code",
   "execution_count": 1,
   "metadata": {},
   "outputs": [],
   "source": [
    "import retro"
   ]
  },
  {
   "cell_type": "code",
   "execution_count": 15,
   "metadata": {},
   "outputs": [
    {
     "name": "stdout",
     "output_type": "stream",
     "text": [
      "Importing StreetFighterIISpecialChampionEdition-Genesis\n",
      "Imported 1 games\n"
     ]
    }
   ],
   "source": [
    "!python -m retro.import ./rom/"
   ]
  },
  {
   "cell_type": "code",
   "execution_count": null,
   "metadata": {},
   "outputs": [],
   "source": [
    "# Will try this for adding states\n",
    "# https://github.com/openai/retro/issues/33#issuecomment-387205034"
   ]
  },
  {
   "cell_type": "code",
   "execution_count": 24,
   "metadata": {},
   "outputs": [],
   "source": [
    "env=retro.make(game='StreetFighterIISpecialChampionEdition-Genesis',state='Champion.Level1.RyuVsGuile.state')"
   ]
  },
  {
   "cell_type": "code",
   "execution_count": 23,
   "metadata": {},
   "outputs": [],
   "source": [
    "env.close()"
   ]
  },
  {
   "cell_type": "code",
   "execution_count": 4,
   "metadata": {},
   "outputs": [
    {
     "data": {
      "text/plain": [
       "array([[[ 54, 221,  66],\n",
       "        [ 21, 216,  38],\n",
       "        [ 69, 228, 161],\n",
       "        ...,\n",
       "        [158,  79,  98],\n",
       "        [  5,  30, 223],\n",
       "        [211, 218,  45]],\n",
       "\n",
       "       [[214,  56, 152],\n",
       "        [143, 217, 205],\n",
       "        [ 32,  61, 175],\n",
       "        ...,\n",
       "        [ 58,  66, 122],\n",
       "        [175, 215, 205],\n",
       "        [ 32, 215,  40]],\n",
       "\n",
       "       [[154,  48, 134],\n",
       "        [ 28, 102, 225],\n",
       "        [ 43, 157, 173],\n",
       "        ...,\n",
       "        [ 39, 224, 171],\n",
       "        [106, 221, 248],\n",
       "        [ 18, 137,  38]],\n",
       "\n",
       "       ...,\n",
       "\n",
       "       [[  7,  16, 253],\n",
       "        [ 66,  14, 195],\n",
       "        [ 85,   5, 234],\n",
       "        ...,\n",
       "        [121,  30,  33],\n",
       "        [211, 193, 186],\n",
       "        [ 73, 184, 250]],\n",
       "\n",
       "       [[ 82, 172,   8],\n",
       "        [226,  39, 179],\n",
       "        [ 68, 152, 170],\n",
       "        ...,\n",
       "        [201, 211,  13],\n",
       "        [ 65,  97,  23],\n",
       "        [ 90, 156,  15]],\n",
       "\n",
       "       [[ 59, 254,  13],\n",
       "        [172, 192, 160],\n",
       "        [146, 215,  30],\n",
       "        ...,\n",
       "        [  6, 108, 149],\n",
       "        [ 54, 187, 116],\n",
       "        [ 92, 249, 175]]], dtype=uint8)"
      ]
     },
     "execution_count": 4,
     "metadata": {},
     "output_type": "execute_result"
    }
   ],
   "source": [
    "env.observation_space.sample()"
   ]
  },
  {
   "cell_type": "code",
   "execution_count": 5,
   "metadata": {},
   "outputs": [
    {
     "name": "stderr",
     "output_type": "stream",
     "text": [
      "c:\\Users\\reece\\miniconda3\\envs\\streetfighter\\lib\\site-packages\\pyglet\\image\\codecs\\wic.py:289: UserWarning: [WinError -2147417850] Cannot change thread mode after it is set\n",
      "  warnings.warn(str(err))\n"
     ]
    }
   ],
   "source": [
    "obs = env.reset()\n",
    "action = env.action_space.sample()\n",
    "while True:\n",
    "    state, reward, done, info = env.step(action)\n",
    "    env.render()\n",
    "    if done:\n",
    "        break\n",
    "    action = env.action_space.sample()\n",
    "env.close()"
   ]
  }
 ],
 "metadata": {
  "kernelspec": {
   "display_name": "Python 3",
   "language": "python",
   "name": "python3"
  },
  "language_info": {
   "codemirror_mode": {
    "name": "ipython",
    "version": 3
   },
   "file_extension": ".py",
   "mimetype": "text/x-python",
   "name": "python",
   "nbconvert_exporter": "python",
   "pygments_lexer": "ipython3",
   "version": "3.7.12"
  }
 },
 "nbformat": 4,
 "nbformat_minor": 2
}
