{
 "cells": [
  {
   "cell_type": "code",
   "execution_count": 3,
   "metadata": {},
   "outputs": [],
   "source": [
    "import retro\n",
    "import time"
   ]
  },
  {
   "cell_type": "code",
   "execution_count": 4,
   "metadata": {},
   "outputs": [
    {
     "name": "stdout",
     "output_type": "stream",
     "text": [
      "Importing StreetFighterIISpecialChampionEdition-Genesis\n",
      "Imported 1 games\n"
     ]
    }
   ],
   "source": [
    "!python -m retro.import ./custom_integrations"
   ]
  },
  {
   "cell_type": "code",
   "execution_count": null,
   "metadata": {},
   "outputs": [],
   "source": [
    "# Will try this for adding states\n",
    "# https://github.com/openai/retro/issues/33#issuecomment-387205034"
   ]
  },
  {
   "cell_type": "code",
   "execution_count": 9,
   "metadata": {},
   "outputs": [],
   "source": [
    "env.close()"
   ]
  },
  {
   "cell_type": "code",
   "execution_count": 5,
   "metadata": {},
   "outputs": [],
   "source": [
    "env=retro.make(game='StreetFighterII-Champion',state='Champion.Level1.RyuVsGuile.state')"
   ]
  },
  {
   "cell_type": "code",
   "execution_count": 6,
   "metadata": {},
   "outputs": [
    {
     "ename": "AttributeError",
     "evalue": "'RetroEnv' object has no attribute 'device'",
     "output_type": "error",
     "traceback": [
      "\u001b[1;31m---------------------------------------------------------------------------\u001b[0m",
      "\u001b[1;31mAttributeError\u001b[0m                            Traceback (most recent call last)",
      "\u001b[1;32m~\\AppData\\Local\\Temp\\ipykernel_44264\\1062250496.py\u001b[0m in \u001b[0;36m<module>\u001b[1;34m\u001b[0m\n\u001b[1;32m----> 1\u001b[1;33m \u001b[0mprint\u001b[0m\u001b[1;33m(\u001b[0m\u001b[0menv\u001b[0m\u001b[1;33m.\u001b[0m\u001b[0mdevice\u001b[0m\u001b[1;33m)\u001b[0m\u001b[1;33m\u001b[0m\u001b[1;33m\u001b[0m\u001b[0m\n\u001b[0m",
      "\u001b[1;31mAttributeError\u001b[0m: 'RetroEnv' object has no attribute 'device'"
     ]
    }
   ],
   "source": [
    "print(env.device)"
   ]
  },
  {
   "cell_type": "code",
   "execution_count": 11,
   "metadata": {},
   "outputs": [
    {
     "data": {
      "text/plain": [
       "MultiBinary(12)"
      ]
     },
     "execution_count": 11,
     "metadata": {},
     "output_type": "execute_result"
    }
   ],
   "source": [
    "env.action_space"
   ]
  },
  {
   "cell_type": "code",
   "execution_count": 4,
   "metadata": {},
   "outputs": [
    {
     "data": {
      "text/plain": [
       "array([[[ 41, 161, 184],\n",
       "        [ 16,  16, 202],\n",
       "        [ 10,  18, 232],\n",
       "        ...,\n",
       "        [101,  41, 161],\n",
       "        [201, 203,  77],\n",
       "        [190,  95,  21]],\n",
       "\n",
       "       [[235, 103,  51],\n",
       "        [  1,  10, 182],\n",
       "        [ 92, 145,  14],\n",
       "        ...,\n",
       "        [135, 158, 154],\n",
       "        [ 49, 243, 208],\n",
       "        [ 81, 243, 219]],\n",
       "\n",
       "       [[ 41, 136, 173],\n",
       "        [ 91, 227,  27],\n",
       "        [202, 231, 101],\n",
       "        ...,\n",
       "        [100,  43, 221],\n",
       "        [108, 233, 168],\n",
       "        [209, 141, 116]],\n",
       "\n",
       "       ...,\n",
       "\n",
       "       [[224,  26, 211],\n",
       "        [167, 210,  54],\n",
       "        [ 77, 167,  59],\n",
       "        ...,\n",
       "        [138, 223,  33],\n",
       "        [ 35,  30,  28],\n",
       "        [100, 163, 232]],\n",
       "\n",
       "       [[196, 119, 153],\n",
       "        [242,   0, 244],\n",
       "        [239, 121,  87],\n",
       "        ...,\n",
       "        [ 35, 199,  46],\n",
       "        [252, 110, 173],\n",
       "        [ 86, 125, 215]],\n",
       "\n",
       "       [[119,  14, 214],\n",
       "        [ 17,  84,  98],\n",
       "        [193, 192,  85],\n",
       "        ...,\n",
       "        [ 50,  52, 239],\n",
       "        [ 13, 213,  75],\n",
       "        [188, 113, 206]]], dtype=uint8)"
      ]
     },
     "execution_count": 4,
     "metadata": {},
     "output_type": "execute_result"
    }
   ],
   "source": [
    "env.observation_space.sample()"
   ]
  },
  {
   "cell_type": "code",
   "execution_count": 5,
   "metadata": {},
   "outputs": [
    {
     "name": "stdout",
     "output_type": "stream",
     "text": [
      "[[[168 168 168]\n",
      "  [168 168 168]\n",
      "  [168 168 168]\n",
      "  ...\n",
      "  [200 204 200]\n",
      "  [200 204 200]\n",
      "  [200 204 200]]\n",
      "\n",
      " [[200 204 200]\n",
      "  [200 204 200]\n",
      "  [168 168 168]\n",
      "  ...\n",
      "  [200 204 200]\n",
      "  [168 168 168]\n",
      "  [136 136 136]]\n",
      "\n",
      " [[168 168 168]\n",
      "  [168 168 168]\n",
      "  [168 168 168]\n",
      "  ...\n",
      "  [136 136 136]\n",
      "  [136 136 136]\n",
      "  [168 168 168]]\n",
      "\n",
      " ...\n",
      "\n",
      " [[ 64  68   0]\n",
      "  [ 64  68   0]\n",
      "  [ 64  68   0]\n",
      "  ...\n",
      "  [136 136  64]\n",
      "  [ 64  32   0]\n",
      "  [ 32   0   0]]\n",
      "\n",
      " [[168 168  96]\n",
      "  [168 168  96]\n",
      "  [168 168  96]\n",
      "  ...\n",
      "  [ 96 100  32]\n",
      "  [ 96 100  32]\n",
      "  [ 96 100  32]]\n",
      "\n",
      " [[200 204 136]\n",
      "  [200 204 136]\n",
      "  [168 168  96]\n",
      "  ...\n",
      "  [168 168  96]\n",
      "  [168 168  96]\n",
      "  [168 168  96]]]\n"
     ]
    }
   ],
   "source": [
    "obs = env.reset()\n",
    "print(obs)"
   ]
  },
  {
   "cell_type": "code",
   "execution_count": 4,
   "metadata": {},
   "outputs": [
    {
     "name": "stderr",
     "output_type": "stream",
     "text": [
      "c:\\Users\\reece\\anaconda3\\envs\\street_fighter37\\lib\\site-packages\\pyglet\\image\\codecs\\wic.py:289: UserWarning: [WinError -2147417850] Cannot change thread mode after it is set\n",
      "  warnings.warn(str(err))\n"
     ]
    },
    {
     "name": "stdout",
     "output_type": "stream",
     "text": [
      "500.0\n",
      "{'enemy_matches_won': 0, 'score': 500, 'matches_won': 0, 'continuetimer': 0, 'enemy_health': 145, 'health': 128}\n",
      "300.0\n",
      "{'enemy_matches_won': 0, 'score': 800, 'matches_won': 0, 'continuetimer': 0, 'enemy_health': 123, 'health': 87}\n",
      "100.0\n",
      "{'enemy_matches_won': 0, 'score': 900, 'matches_won': 0, 'continuetimer': 0, 'enemy_health': 111, 'health': 87}\n",
      "400.0\n",
      "{'enemy_matches_won': 0, 'score': 1300, 'matches_won': 0, 'continuetimer': 0, 'enemy_health': 86, 'health': 87}\n",
      "300.0\n",
      "{'enemy_matches_won': 0, 'score': 1600, 'matches_won': 0, 'continuetimer': 0, 'enemy_health': 63, 'health': 87}\n",
      "100.0\n",
      "{'enemy_matches_won': 0, 'score': 1700, 'matches_won': 0, 'continuetimer': 0, 'enemy_health': 49, 'health': 16}\n",
      "500.0\n",
      "{'enemy_matches_won': 0, 'score': 2200, 'matches_won': 0, 'continuetimer': 0, 'enemy_health': 17, 'health': 16}\n",
      "500.0\n",
      "{'enemy_matches_won': 1, 'score': 2700, 'matches_won': 0, 'continuetimer': 0, 'enemy_health': 146, 'health': 102}\n",
      "100.0\n",
      "{'enemy_matches_won': 1, 'score': 2800, 'matches_won': 0, 'continuetimer': 0, 'enemy_health': 135, 'health': 12}\n"
     ]
    },
    {
     "ename": "KeyboardInterrupt",
     "evalue": "",
     "output_type": "error",
     "traceback": [
      "\u001b[1;31m---------------------------------------------------------------------------\u001b[0m",
      "\u001b[1;31mKeyboardInterrupt\u001b[0m                         Traceback (most recent call last)",
      "\u001b[1;32m~\\AppData\\Local\\Temp\\ipykernel_42464\\2627311917.py\u001b[0m in \u001b[0;36m<module>\u001b[1;34m\u001b[0m\n\u001b[0;32m      6\u001b[0m         \u001b[0mprint\u001b[0m\u001b[1;33m(\u001b[0m\u001b[0mreward\u001b[0m\u001b[1;33m)\u001b[0m\u001b[1;33m\u001b[0m\u001b[1;33m\u001b[0m\u001b[0m\n\u001b[0;32m      7\u001b[0m         \u001b[0mprint\u001b[0m\u001b[1;33m(\u001b[0m\u001b[0minfo\u001b[0m\u001b[1;33m)\u001b[0m\u001b[1;33m\u001b[0m\u001b[1;33m\u001b[0m\u001b[0m\n\u001b[1;32m----> 8\u001b[1;33m     \u001b[0menv\u001b[0m\u001b[1;33m.\u001b[0m\u001b[0mrender\u001b[0m\u001b[1;33m(\u001b[0m\u001b[1;33m)\u001b[0m\u001b[1;33m\u001b[0m\u001b[1;33m\u001b[0m\u001b[0m\n\u001b[0m\u001b[0;32m      9\u001b[0m     \u001b[1;32mif\u001b[0m \u001b[0mdone\u001b[0m\u001b[1;33m:\u001b[0m\u001b[1;33m\u001b[0m\u001b[1;33m\u001b[0m\u001b[0m\n\u001b[0;32m     10\u001b[0m         \u001b[1;32mbreak\u001b[0m\u001b[1;33m\u001b[0m\u001b[1;33m\u001b[0m\u001b[0m\n",
      "\u001b[1;32mc:\\Users\\reece\\anaconda3\\envs\\street_fighter37\\lib\\site-packages\\retro\\retro_env.py\u001b[0m in \u001b[0;36mrender\u001b[1;34m(self, mode, close)\u001b[0m\n\u001b[0;32m    228\u001b[0m                 \u001b[1;32mfrom\u001b[0m \u001b[0mgym\u001b[0m\u001b[1;33m.\u001b[0m\u001b[0menvs\u001b[0m\u001b[1;33m.\u001b[0m\u001b[0mclassic_control\u001b[0m\u001b[1;33m.\u001b[0m\u001b[0mrendering\u001b[0m \u001b[1;32mimport\u001b[0m \u001b[0mSimpleImageViewer\u001b[0m\u001b[1;33m\u001b[0m\u001b[1;33m\u001b[0m\u001b[0m\n\u001b[0;32m    229\u001b[0m                 \u001b[0mself\u001b[0m\u001b[1;33m.\u001b[0m\u001b[0mviewer\u001b[0m \u001b[1;33m=\u001b[0m \u001b[0mSimpleImageViewer\u001b[0m\u001b[1;33m(\u001b[0m\u001b[1;33m)\u001b[0m\u001b[1;33m\u001b[0m\u001b[1;33m\u001b[0m\u001b[0m\n\u001b[1;32m--> 230\u001b[1;33m             \u001b[0mself\u001b[0m\u001b[1;33m.\u001b[0m\u001b[0mviewer\u001b[0m\u001b[1;33m.\u001b[0m\u001b[0mimshow\u001b[0m\u001b[1;33m(\u001b[0m\u001b[0mimg\u001b[0m\u001b[1;33m)\u001b[0m\u001b[1;33m\u001b[0m\u001b[1;33m\u001b[0m\u001b[0m\n\u001b[0m\u001b[0;32m    231\u001b[0m             \u001b[1;32mreturn\u001b[0m \u001b[0mself\u001b[0m\u001b[1;33m.\u001b[0m\u001b[0mviewer\u001b[0m\u001b[1;33m.\u001b[0m\u001b[0misopen\u001b[0m\u001b[1;33m\u001b[0m\u001b[1;33m\u001b[0m\u001b[0m\n\u001b[0;32m    232\u001b[0m \u001b[1;33m\u001b[0m\u001b[0m\n",
      "\u001b[1;32mc:\\Users\\reece\\anaconda3\\envs\\street_fighter37\\lib\\site-packages\\gym\\envs\\classic_control\\rendering.py\u001b[0m in \u001b[0;36mimshow\u001b[1;34m(self, arr)\u001b[0m\n\u001b[0;32m    443\u001b[0m         \u001b[0mtexture\u001b[0m\u001b[1;33m.\u001b[0m\u001b[0mwidth\u001b[0m \u001b[1;33m=\u001b[0m \u001b[0mself\u001b[0m\u001b[1;33m.\u001b[0m\u001b[0mwidth\u001b[0m\u001b[1;33m\u001b[0m\u001b[1;33m\u001b[0m\u001b[0m\n\u001b[0;32m    444\u001b[0m         \u001b[0mtexture\u001b[0m\u001b[1;33m.\u001b[0m\u001b[0mheight\u001b[0m \u001b[1;33m=\u001b[0m \u001b[0mself\u001b[0m\u001b[1;33m.\u001b[0m\u001b[0mheight\u001b[0m\u001b[1;33m\u001b[0m\u001b[1;33m\u001b[0m\u001b[0m\n\u001b[1;32m--> 445\u001b[1;33m         \u001b[0mself\u001b[0m\u001b[1;33m.\u001b[0m\u001b[0mwindow\u001b[0m\u001b[1;33m.\u001b[0m\u001b[0mclear\u001b[0m\u001b[1;33m(\u001b[0m\u001b[1;33m)\u001b[0m\u001b[1;33m\u001b[0m\u001b[1;33m\u001b[0m\u001b[0m\n\u001b[0m\u001b[0;32m    446\u001b[0m         \u001b[0mself\u001b[0m\u001b[1;33m.\u001b[0m\u001b[0mwindow\u001b[0m\u001b[1;33m.\u001b[0m\u001b[0mswitch_to\u001b[0m\u001b[1;33m(\u001b[0m\u001b[1;33m)\u001b[0m\u001b[1;33m\u001b[0m\u001b[1;33m\u001b[0m\u001b[0m\n\u001b[0;32m    447\u001b[0m         \u001b[0mself\u001b[0m\u001b[1;33m.\u001b[0m\u001b[0mwindow\u001b[0m\u001b[1;33m.\u001b[0m\u001b[0mdispatch_events\u001b[0m\u001b[1;33m(\u001b[0m\u001b[1;33m)\u001b[0m\u001b[1;33m\u001b[0m\u001b[1;33m\u001b[0m\u001b[0m\n",
      "\u001b[1;32mc:\\Users\\reece\\anaconda3\\envs\\street_fighter37\\lib\\site-packages\\pyglet\\window\\__init__.py\u001b[0m in \u001b[0;36mclear\u001b[1;34m(self)\u001b[0m\n\u001b[0;32m   1327\u001b[0m         \u001b[0mbuffer\u001b[0m\u001b[1;33m.\u001b[0m  \u001b[0mThe\u001b[0m \u001b[0mwindow\u001b[0m \u001b[0mmust\u001b[0m \u001b[0mbe\u001b[0m \u001b[0mthe\u001b[0m \u001b[0mactive\u001b[0m \u001b[0mcontext\u001b[0m \u001b[1;33m(\u001b[0m\u001b[0msee\u001b[0m\u001b[0;31m \u001b[0m\u001b[0;31m`\u001b[0m\u001b[0mswitch_to\u001b[0m\u001b[0;31m`\u001b[0m\u001b[1;33m)\u001b[0m\u001b[1;33m.\u001b[0m\u001b[1;33m\u001b[0m\u001b[1;33m\u001b[0m\u001b[0m\n\u001b[0;32m   1328\u001b[0m         \"\"\"\n\u001b[1;32m-> 1329\u001b[1;33m         \u001b[0mgl\u001b[0m\u001b[1;33m.\u001b[0m\u001b[0mglClear\u001b[0m\u001b[1;33m(\u001b[0m\u001b[0mgl\u001b[0m\u001b[1;33m.\u001b[0m\u001b[0mGL_COLOR_BUFFER_BIT\u001b[0m \u001b[1;33m|\u001b[0m \u001b[0mgl\u001b[0m\u001b[1;33m.\u001b[0m\u001b[0mGL_DEPTH_BUFFER_BIT\u001b[0m\u001b[1;33m)\u001b[0m\u001b[1;33m\u001b[0m\u001b[1;33m\u001b[0m\u001b[0m\n\u001b[0m\u001b[0;32m   1330\u001b[0m \u001b[1;33m\u001b[0m\u001b[0m\n\u001b[0;32m   1331\u001b[0m     \u001b[1;32mdef\u001b[0m \u001b[0mdispatch_event\u001b[0m\u001b[1;33m(\u001b[0m\u001b[0mself\u001b[0m\u001b[1;33m,\u001b[0m \u001b[1;33m*\u001b[0m\u001b[0margs\u001b[0m\u001b[1;33m)\u001b[0m\u001b[1;33m:\u001b[0m\u001b[1;33m\u001b[0m\u001b[1;33m\u001b[0m\u001b[0m\n",
      "\u001b[1;32mc:\\Users\\reece\\anaconda3\\envs\\street_fighter37\\lib\\site-packages\\pyglet\\gl\\lib.py\u001b[0m in \u001b[0;36merrcheck\u001b[1;34m(result, func, arguments)\u001b[0m\n\u001b[0;32m     85\u001b[0m \u001b[1;33m\u001b[0m\u001b[0m\n\u001b[0;32m     86\u001b[0m \u001b[1;33m\u001b[0m\u001b[0m\n\u001b[1;32m---> 87\u001b[1;33m \u001b[1;32mdef\u001b[0m \u001b[0merrcheck\u001b[0m\u001b[1;33m(\u001b[0m\u001b[0mresult\u001b[0m\u001b[1;33m,\u001b[0m \u001b[0mfunc\u001b[0m\u001b[1;33m,\u001b[0m \u001b[0marguments\u001b[0m\u001b[1;33m)\u001b[0m\u001b[1;33m:\u001b[0m\u001b[1;33m\u001b[0m\u001b[1;33m\u001b[0m\u001b[0m\n\u001b[0m\u001b[0;32m     88\u001b[0m     \u001b[1;32mif\u001b[0m \u001b[0m_debug_gl_trace\u001b[0m\u001b[1;33m:\u001b[0m\u001b[1;33m\u001b[0m\u001b[1;33m\u001b[0m\u001b[0m\n\u001b[0;32m     89\u001b[0m         \u001b[1;32mtry\u001b[0m\u001b[1;33m:\u001b[0m\u001b[1;33m\u001b[0m\u001b[1;33m\u001b[0m\u001b[0m\n",
      "\u001b[1;31mKeyboardInterrupt\u001b[0m: "
     ]
    }
   ],
   "source": [
    "obs = env.reset()\n",
    "action = env.action_space.sample()\n",
    "while True:\n",
    "    state, reward, done, info = env.step(action)\n",
    "    if reward != 0:\n",
    "        print(reward)\n",
    "        print(info)\n",
    "    env.render()\n",
    "    if done:\n",
    "        break\n",
    "    action = env.action_space.sample()\n",
    "env.close()"
   ]
  }
 ],
 "metadata": {
  "kernelspec": {
   "display_name": "mystreet",
   "language": "python",
   "name": "python3"
  },
  "language_info": {
   "codemirror_mode": {
    "name": "ipython",
    "version": 3
   },
   "file_extension": ".py",
   "mimetype": "text/x-python",
   "name": "python",
   "nbconvert_exporter": "python",
   "pygments_lexer": "ipython3",
   "version": "3.7.16"
  }
 },
 "nbformat": 4,
 "nbformat_minor": 4
}
