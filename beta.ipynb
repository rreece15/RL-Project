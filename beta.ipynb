{
 "cells": [
  {
   "cell_type": "code",
   "execution_count": 1,
   "metadata": {},
   "outputs": [],
   "source": [
    "import retro"
   ]
  },
  {
   "cell_type": "code",
   "execution_count": 2,
   "metadata": {},
   "outputs": [
    {
     "name": "stdout",
     "output_type": "stream",
     "text": [
      "Importing StreetFighterIISpecialChampionEdition-Genesis\n",
      "Imported 1 games\n"
     ]
    }
   ],
   "source": [
    "!python -m retro.import ./custom_integrations"
   ]
  },
  {
   "cell_type": "code",
   "execution_count": 19,
   "metadata": {},
   "outputs": [],
   "source": [
    "# Will try this for adding states\n",
    "# https://github.com/openai/retro/issues/33#issuecomment-387205034"
   ]
  },
  {
   "cell_type": "code",
   "execution_count": 5,
   "metadata": {},
   "outputs": [],
   "source": [
    "env=retro.make(game='StreetFighterIISpecialChampionEdition-Genesis',state='Champion.Level1.RyuVsGuile.state')"
   ]
  },
  {
   "cell_type": "code",
   "execution_count": 4,
   "metadata": {},
   "outputs": [],
   "source": [
    "env.close()"
   ]
  },
  {
   "cell_type": "code",
   "execution_count": 6,
   "metadata": {},
   "outputs": [
    {
     "data": {
      "text/plain": [
       "array([[[148,  20, 216],\n",
       "        [ 65, 247, 185],\n",
       "        [ 81, 166, 120],\n",
       "        ...,\n",
       "        [138,  74, 150],\n",
       "        [179, 232,  21],\n",
       "        [  4, 244, 161]],\n",
       "\n",
       "       [[237,  97, 199],\n",
       "        [247, 204, 144],\n",
       "        [ 87, 100,  71],\n",
       "        ...,\n",
       "        [124, 127, 119],\n",
       "        [197, 214, 253],\n",
       "        [ 75, 138, 242]],\n",
       "\n",
       "       [[140,  91, 133],\n",
       "        [ 68,   1,  79],\n",
       "        [173,  60,  16],\n",
       "        ...,\n",
       "        [108,  27,  66],\n",
       "        [153, 165, 194],\n",
       "        [ 95,  17,  61]],\n",
       "\n",
       "       ...,\n",
       "\n",
       "       [[253, 115, 182],\n",
       "        [ 60,  84, 143],\n",
       "        [206,  85,  43],\n",
       "        ...,\n",
       "        [220, 151,  60],\n",
       "        [200,  35, 197],\n",
       "        [  1, 215,  90]],\n",
       "\n",
       "       [[ 47, 131, 109],\n",
       "        [176, 118,  73],\n",
       "        [ 26,  13, 231],\n",
       "        ...,\n",
       "        [ 94,  67,  65],\n",
       "        [165, 182, 236],\n",
       "        [180,  83,  37]],\n",
       "\n",
       "       [[177, 173,  54],\n",
       "        [ 90,  76, 210],\n",
       "        [ 70,  89, 167],\n",
       "        ...,\n",
       "        [ 19,  81, 177],\n",
       "        [206, 149,   1],\n",
       "        [ 47,  66,  87]]], dtype=uint8)"
      ]
     },
     "execution_count": 6,
     "metadata": {},
     "output_type": "execute_result"
    }
   ],
   "source": [
    "env.observation_space.sample()"
   ]
  },
  {
   "cell_type": "code",
   "execution_count": null,
   "metadata": {},
   "outputs": [
    {
     "name": "stderr",
     "output_type": "stream",
     "text": [
      "C:\\Users\\reece\\anaconda3\\envs\\mystreet\\lib\\site-packages\\pyglet\\image\\codecs\\wic.py:289: UserWarning: [WinError -2147417850] Cannot change thread mode after it is set\n",
      "  warnings.warn(str(err))\n"
     ]
    }
   ],
   "source": [
    "obs = env.reset()\n",
    "action = env.action_space.sample()\n",
    "while True:\n",
    "    state, reward, done, info = env.step(action)\n",
    "    env.render()\n",
    "    if done:\n",
    "        break\n",
    "    action = env.action_space.sample()\n",
    "env.close()"
   ]
  }
 ],
 "metadata": {
  "kernelspec": {
   "display_name": "mystreet",
   "language": "python",
   "name": "mystreet"
  },
  "language_info": {
   "codemirror_mode": {
    "name": "ipython",
    "version": 3
   },
   "file_extension": ".py",
   "mimetype": "text/x-python",
   "name": "python",
   "nbconvert_exporter": "python",
   "pygments_lexer": "ipython3",
   "version": "3.7.1"
  }
 },
 "nbformat": 4,
 "nbformat_minor": 4
}
